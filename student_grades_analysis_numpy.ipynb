{
 "cells": [
  {
   "cell_type": "code",
   "execution_count": 3,
   "id": "bcc20621-ce80-46ed-ab86-6a31152d4472",
   "metadata": {},
   "outputs": [],
   "source": [
    "import numpy as np"
   ]
  },
  {
   "cell_type": "code",
   "execution_count": 4,
   "id": "00f6f3b8-094c-4e0e-9bb3-bd2493306d32",
   "metadata": {},
   "outputs": [],
   "source": [
    "students = np.array(['Alice','Bob','Charlie','David','Eva'])"
   ]
  },
  {
   "cell_type": "code",
   "execution_count": 5,
   "id": "e00157fd-0ffb-4d59-81ba-85cf41e42477",
   "metadata": {},
   "outputs": [
    {
     "data": {
      "text/plain": [
       "array(['Alice', 'Bob', 'Charlie', 'David', 'Eva'], dtype='<U7')"
      ]
     },
     "execution_count": 5,
     "metadata": {},
     "output_type": "execute_result"
    }
   ],
   "source": [
    "students"
   ]
  },
  {
   "cell_type": "code",
   "execution_count": 6,
   "id": "0c97b0e0-dee2-4041-b0dd-f43cbdc02845",
   "metadata": {},
   "outputs": [],
   "source": [
    "grades = np.array([[85, 90, 78], [88, 92, 35], [76, 30, 68], [91, 87, 95], [65, 70, 60]])"
   ]
  },
  {
   "cell_type": "code",
   "execution_count": 9,
   "id": "f29d1d74-1b06-43b9-9c6d-0e047e68e235",
   "metadata": {},
   "outputs": [
    {
     "data": {
      "text/plain": [
       "array([[85, 90, 78],\n",
       "       [88, 92, 85],\n",
       "       [76, 80, 68],\n",
       "       [91, 87, 95],\n",
       "       [65, 70, 60]])"
      ]
     },
     "execution_count": 9,
     "metadata": {},
     "output_type": "execute_result"
    }
   ],
   "source": [
    "grades"
   ]
  },
  {
   "cell_type": "code",
   "execution_count": 11,
   "id": "3a64d06c-ff1f-4a19-99fc-7619cfbe71dd",
   "metadata": {},
   "outputs": [
    {
     "data": {
      "text/plain": [
       "array([84, 71, 58, 91, 65])"
      ]
     },
     "execution_count": 11,
     "metadata": {},
     "output_type": "execute_result"
    }
   ],
   "source": [
    "#Calculating average per student\n",
    "avg_per_student = np.mean(grades,axis=1,dtype=int)\n",
    "avg_per_student"
   ]
  },
  {
   "cell_type": "code",
   "execution_count": 13,
   "id": "03607081-6313-497a-8223-f3924773d6aa",
   "metadata": {},
   "outputs": [
    {
     "data": {
      "text/plain": [
       "array([81, 73, 67])"
      ]
     },
     "execution_count": 13,
     "metadata": {},
     "output_type": "execute_result"
    }
   ],
   "source": [
    "#Calculating average per subject\n",
    "avg_per_subject = np.mean(grades,axis=0,dtype=int)\n",
    "avg_per_subject                          "
   ]
  },
  {
   "cell_type": "code",
   "execution_count": 15,
   "id": "6d78577a-dd02-4c91-b69a-5dc0a9c04d2f",
   "metadata": {},
   "outputs": [
    {
     "name": "stdout",
     "output_type": "stream",
     "text": [
      "Alice : 84\n",
      "Bob : 71\n",
      "Charlie : 58\n",
      "David : 91\n",
      "Eva : 65\n"
     ]
    }
   ],
   "source": [
    "for i in range(len(students)):\n",
    "    print(students[i],\":\",avg_per_student[i])"
   ]
  },
  {
   "cell_type": "code",
   "execution_count": 17,
   "id": "27350bc2-0b64-4436-b828-be999126a535",
   "metadata": {},
   "outputs": [
    {
     "name": "stdout",
     "output_type": "stream",
     "text": [
      "\n",
      "Average marks per subject (Math, Science, English): [81 73 67]\n"
     ]
    },
    {
     "data": {
      "text/plain": [
       "array([81, 73, 67])"
      ]
     },
     "execution_count": 17,
     "metadata": {},
     "output_type": "execute_result"
    }
   ],
   "source": [
    "print(\"\\nAverage marks per subject (Math, Science, English):\", avg_per_subject)\n",
    "avg_per_subject"
   ]
  },
  {
   "cell_type": "code",
   "execution_count": 19,
   "id": "ca1f1324-b430-4a31-8cce-b2f0b01c3ab8",
   "metadata": {},
   "outputs": [
    {
     "name": "stdout",
     "output_type": "stream",
     "text": [
      "\n",
      "Overall class average: 74.0\n"
     ]
    }
   ],
   "source": [
    "class_avg = np.mean(grades)\n",
    "print(\"\\nOverall class average:\", class_avg)"
   ]
  },
  {
   "cell_type": "code",
   "execution_count": 21,
   "id": "a33f03d6-f542-4c28-acee-3e1ae02630c2",
   "metadata": {},
   "outputs": [
    {
     "name": "stdout",
     "output_type": "stream",
     "text": [
      "Alice : B\n",
      "Bob : C\n",
      "Charlie : F\n",
      "David : A\n",
      "Eva : D\n"
     ]
    }
   ],
   "source": [
    "def categorize_grades(avg_score):\n",
    "    if avg_score >= 90:\n",
    "        return 'A'\n",
    "    elif avg_score >= 80:\n",
    "        return 'B'\n",
    "    elif avg_score >= 70:\n",
    "        return 'C'\n",
    "    elif avg_score >= 60:\n",
    "        return 'D'\n",
    "    else:\n",
    "        return 'F'\n",
    "\n",
    "grade_categories = np.array([categorize_grades(avg_per_student[i]) for i in range(len(students))])\n",
    "\n",
    "# Printing grade categories for each student\n",
    "for i in range(len(students)):\n",
    "    print(students[i], \":\", grade_categories[i])"
   ]
  },
  {
   "cell_type": "code",
   "execution_count": 23,
   "id": "5630aabc-8221-4163-8b79-bb506aa24bae",
   "metadata": {},
   "outputs": [
    {
     "name": "stdout",
     "output_type": "stream",
     "text": [
      "\n",
      "Top 3 students based on average grades: ['David' 'Alice' 'Bob']\n"
     ]
    }
   ],
   "source": [
    "top_n_indices = np.argsort(avg_per_student)[-3:][::-1]\n",
    "top_students = students[top_n_indices]\n",
    "\n",
    "print(\"\\nTop 3 students based on average grades:\", top_students)"
   ]
  },
  {
   "cell_type": "code",
   "execution_count": 25,
   "id": "eef073f9-1caa-48d2-844f-bf32e7cd0dbe",
   "metadata": {},
   "outputs": [
    {
     "name": "stdout",
     "output_type": "stream",
     "text": [
      "Alice : ['Pass' 'Pass' 'Pass']\n",
      "Bob : ['Pass' 'Pass' 'Fail']\n",
      "Charlie : ['Pass' 'Fail' 'Pass']\n",
      "David : ['Pass' 'Pass' 'Pass']\n",
      "Eva : ['Pass' 'Pass' 'Pass']\n"
     ]
    }
   ],
   "source": [
    "pass_fail = np.where(grades >= 40, 'Pass', 'Fail')\n",
    "\n",
    "# Printing pass/fail status for each student by subject\n",
    "for i in range(len(students)):\n",
    "    print(students[i], \":\", pass_fail[i])"
   ]
  },
  {
   "cell_type": "code",
   "execution_count": null,
   "id": "45128b04-1631-43f8-95c9-b471ffb5d50e",
   "metadata": {},
   "outputs": [],
   "source": []
  }
 ],
 "metadata": {
  "kernelspec": {
   "display_name": "Python 3 (ipykernel)",
   "language": "python",
   "name": "python3"
  },
  "language_info": {
   "codemirror_mode": {
    "name": "ipython",
    "version": 3
   },
   "file_extension": ".py",
   "mimetype": "text/x-python",
   "name": "python",
   "nbconvert_exporter": "python",
   "pygments_lexer": "ipython3",
   "version": "3.12.4"
  }
 },
 "nbformat": 4,
 "nbformat_minor": 5
}
