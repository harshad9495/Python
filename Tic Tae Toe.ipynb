{
 "cells": [
  {
   "cell_type": "code",
   "execution_count": null,
   "id": "838922c6-6286-4639-a332-fc5af600ac0b",
   "metadata": {},
   "outputs": [],
   "source": [
    "#Tic tac toe game"
   ]
  },
  {
   "cell_type": "code",
   "execution_count": 3,
   "id": "db8d8482-f640-4ffa-844f-05515e616153",
   "metadata": {},
   "outputs": [],
   "source": [
    "#Step 1 : Write function that can print a board with 3 by 3 board represrntation"
   ]
  },
  {
   "cell_type": "code",
   "execution_count": 1,
   "id": "e4ee19d0-d914-469b-b838-33ba1f584aac",
   "metadata": {},
   "outputs": [],
   "source": [
    "from IPython.display import clear_output\n",
    "\n",
    "def display_board(board):\n",
    "    clear_output()\n",
    "\n",
    "    print('   |   |')\n",
    "    print(' ' + board[7] + ' | ' + board[8] + ' | ' + board[9])\n",
    "    print('   |   |')\n",
    "    print('-----------')\n",
    "    print('   |   |')\n",
    "    print(' ' + board[4] + ' | ' + board[5] + ' | ' + board[6])\n",
    "    print('   |   |')\n",
    "    print('-----------')\n",
    "    print('   |   |')\n",
    "    print(' ' + board[1] + ' | ' + board[2] + ' | ' + board[3])\n",
    "    print('   |   |')"
   ]
  },
  {
   "cell_type": "code",
   "execution_count": 2,
   "id": "86390076-aa83-4380-9d92-2fd2521b6b88",
   "metadata": {},
   "outputs": [],
   "source": [
    "test_board = ['#','X','O','X','O','X','O','X','O','X']"
   ]
  },
  {
   "cell_type": "code",
   "execution_count": 7,
   "id": "824c5a33-dca4-458f-bdcf-23f379f3744a",
   "metadata": {},
   "outputs": [
    {
     "name": "stdout",
     "output_type": "stream",
     "text": [
      "   |   |\n",
      " X | O | X\n",
      "   |   |\n",
      "-----------\n",
      "   |   |\n",
      " O | X | O\n",
      "   |   |\n",
      "-----------\n",
      "   |   |\n",
      " X | O | X\n",
      "   |   |\n"
     ]
    }
   ],
   "source": [
    "display_board(test_board)"
   ]
  },
  {
   "cell_type": "code",
   "execution_count": 15,
   "id": "b8afd516-3865-426c-a58c-865385112c5f",
   "metadata": {},
   "outputs": [],
   "source": [
    "#step 2 Write function that takes only X or O and assign to players"
   ]
  },
  {
   "cell_type": "code",
   "execution_count": 9,
   "id": "133fd7a2-4e1b-4a4f-b658-252da0b0ab7b",
   "metadata": {},
   "outputs": [],
   "source": [
    "def player_marker():\n",
    "\n",
    "    marker = ''\n",
    "\n",
    "    while marker !='X' and marker!='O':\n",
    "        marker = input('Enter X or O:').upper()\n",
    "\n",
    "    if marker == 'X':\n",
    "        return('X','O')\n",
    "    else:\n",
    "        return('O','X')"
   ]
  },
  {
   "cell_type": "code",
   "execution_count": 11,
   "id": "ed6c1790-cdbf-4c76-bf44-60c14b05b97f",
   "metadata": {},
   "outputs": [
    {
     "name": "stdin",
     "output_type": "stream",
     "text": [
      "Enter X or O: X\n"
     ]
    }
   ],
   "source": [
    "player1_marker,player2_marker = player_marker()"
   ]
  },
  {
   "cell_type": "code",
   "execution_count": 13,
   "id": "91005916-5e95-4e15-a1f5-fbc62b9e0f9a",
   "metadata": {},
   "outputs": [
    {
     "data": {
      "text/plain": [
       "'X'"
      ]
     },
     "execution_count": 13,
     "metadata": {},
     "output_type": "execute_result"
    }
   ],
   "source": [
    "player1_marker"
   ]
  },
  {
   "cell_type": "code",
   "execution_count": 15,
   "id": "51f9975c-ba5b-4414-b3d6-4f6f8431f652",
   "metadata": {},
   "outputs": [
    {
     "data": {
      "text/plain": [
       "'O'"
      ]
     },
     "execution_count": 15,
     "metadata": {},
     "output_type": "execute_result"
    }
   ],
   "source": [
    "player2_marker"
   ]
  },
  {
   "cell_type": "code",
   "execution_count": 26,
   "id": "307ab205-13d0-4366-b5da-84cad00459f7",
   "metadata": {},
   "outputs": [],
   "source": [
    "#step 3 assign the marker to desired position on board"
   ]
  },
  {
   "cell_type": "code",
   "execution_count": 17,
   "id": "0cfbafca-6aa9-4b5d-88a0-f033321dd383",
   "metadata": {},
   "outputs": [],
   "source": [
    "def assign_marker(board,marker,position):\n",
    "    board[position] = marker"
   ]
  },
  {
   "cell_type": "code",
   "execution_count": 19,
   "id": "41a774ac-a360-4d66-b8f9-074443a75405",
   "metadata": {},
   "outputs": [],
   "source": [
    "assign_marker(test_board,'#',4)"
   ]
  },
  {
   "cell_type": "code",
   "execution_count": 21,
   "id": "6fc636cd-1dc2-4aca-91a7-ce123ad9b4c3",
   "metadata": {},
   "outputs": [
    {
     "name": "stdout",
     "output_type": "stream",
     "text": [
      "   |   |\n",
      " X | O | X\n",
      "   |   |\n",
      "-----------\n",
      "   |   |\n",
      " # | X | O\n",
      "   |   |\n",
      "-----------\n",
      "   |   |\n",
      " X | O | X\n",
      "   |   |\n"
     ]
    }
   ],
   "source": [
    "display_board(test_board)"
   ]
  },
  {
   "cell_type": "code",
   "execution_count": 23,
   "id": "ba77f80b-25b9-4e91-bc26-4db9a6b658ef",
   "metadata": {},
   "outputs": [],
   "source": [
    "#step 4 write function that checks if any of player woon\n",
    "\n",
    "def check_win(board,mark):\n",
    "    #check rows\n",
    "\n",
    "    if (board[1] == mark and board[2] == mark and board[3] == mark) or \\\n",
    "       (board[4] == mark and board[5] == mark and board[6] == mark) or \\\n",
    "       (board[7] == mark and board[8] == mark and board[9] == mark):\n",
    "        return True\n",
    "\n",
    "    # Check columns\n",
    "    if (board[1] == mark and board[4] == mark and board[7] == mark) or \\\n",
    "       (board[2] == mark and board[5] == mark and board[8] == mark) or \\\n",
    "       (board[3] == mark and board[6] == mark and board[9] == mark):\n",
    "        return True\n",
    "\n",
    "    # Check diagonals\n",
    "    if (board[1] == mark and board[5] == mark and board[9] == mark) or \\\n",
    "       (board[3] == mark and board[5] == mark and board[7] == mark):\n",
    "        return True\n",
    "\n",
    "    return False   "
   ]
  },
  {
   "cell_type": "code",
   "execution_count": 25,
   "id": "f08b2161-3cce-4ae5-a459-79ff82faab7f",
   "metadata": {},
   "outputs": [
    {
     "data": {
      "text/plain": [
       "True"
      ]
     },
     "execution_count": 25,
     "metadata": {},
     "output_type": "execute_result"
    }
   ],
   "source": [
    "check_win(test_board,'X')"
   ]
  },
  {
   "cell_type": "code",
   "execution_count": 27,
   "id": "90925988-5675-43ab-bb49-e482345124eb",
   "metadata": {},
   "outputs": [
    {
     "data": {
      "text/plain": [
       "False"
      ]
     },
     "execution_count": 27,
     "metadata": {},
     "output_type": "execute_result"
    }
   ],
   "source": [
    "check_win(test_board,'O')"
   ]
  },
  {
   "cell_type": "code",
   "execution_count": 29,
   "id": "94b1dd4a-93c8-4b2f-b2a2-880fd180d025",
   "metadata": {},
   "outputs": [],
   "source": [
    "#write function that random decided who go first\n",
    "\n",
    "import random\n",
    "\n",
    "def go_first():\n",
    "    choose = random.randint(1,2)\n",
    "\n",
    "    if choose == 1:\n",
    "        return 'Player 1 will go first'\n",
    "    else:\n",
    "        return'Player 2 will go first'\n",
    "    "
   ]
  },
  {
   "cell_type": "code",
   "execution_count": 31,
   "id": "17f786ce-3611-409a-a0b6-517506ddbefc",
   "metadata": {},
   "outputs": [
    {
     "data": {
      "text/plain": [
       "'Player 1 will go first'"
      ]
     },
     "execution_count": 31,
     "metadata": {},
     "output_type": "execute_result"
    }
   ],
   "source": [
    "go_first()"
   ]
  },
  {
   "cell_type": "code",
   "execution_count": 33,
   "id": "9332087b-6920-4c0f-a929-9be6878b897c",
   "metadata": {},
   "outputs": [
    {
     "data": {
      "text/plain": [
       "'Player 2 will go first'"
      ]
     },
     "execution_count": 33,
     "metadata": {},
     "output_type": "execute_result"
    }
   ],
   "source": [
    "go_first()"
   ]
  },
  {
   "cell_type": "code",
   "execution_count": 82,
   "id": "5ae15efb-e515-47dd-b63d-15bd6cae3b4f",
   "metadata": {},
   "outputs": [],
   "source": [
    "#function returns if desired position is available or not"
   ]
  },
  {
   "cell_type": "code",
   "execution_count": 35,
   "id": "456d2d18-a7b5-4c59-a011-ad81d5b09726",
   "metadata": {},
   "outputs": [],
   "source": [
    "def space(board,position):\n",
    "    if board[position] == ' ':\n",
    "        return True\n",
    "    else:\n",
    "        return False"
   ]
  },
  {
   "cell_type": "code",
   "execution_count": 37,
   "id": "5638fe86-0842-405a-ac8c-0c6cfebb4b19",
   "metadata": {},
   "outputs": [
    {
     "data": {
      "text/plain": [
       "False"
      ]
     },
     "execution_count": 37,
     "metadata": {},
     "output_type": "execute_result"
    }
   ],
   "source": [
    "space(test_board,2)"
   ]
  },
  {
   "cell_type": "code",
   "execution_count": 88,
   "id": "db12f85f-21bc-4621-9d9d-510fbc7c1fc3",
   "metadata": {},
   "outputs": [],
   "source": [
    "#function checks if board is full, if full then true"
   ]
  },
  {
   "cell_type": "code",
   "execution_count": 39,
   "id": "16573bd6-354a-496c-8c25-68ad3d186e19",
   "metadata": {},
   "outputs": [],
   "source": [
    "def fullboard_check(board):\n",
    "    for i in range(1,10):\n",
    "        if space(board,i):\n",
    "            return False\n",
    "\n",
    "    return True"
   ]
  },
  {
   "cell_type": "code",
   "execution_count": 41,
   "id": "4361115a-5ec7-4fd9-8b89-fe25543acf0c",
   "metadata": {},
   "outputs": [
    {
     "data": {
      "text/plain": [
       "True"
      ]
     },
     "execution_count": 41,
     "metadata": {},
     "output_type": "execute_result"
    }
   ],
   "source": [
    "fullboard_check(test_board)"
   ]
  },
  {
   "cell_type": "code",
   "execution_count": 94,
   "id": "1e7db7e4-7002-4aa5-8a99-0de0d6884700",
   "metadata": {},
   "outputs": [],
   "source": [
    "#function that checks player next position"
   ]
  },
  {
   "cell_type": "code",
   "execution_count": 43,
   "id": "9af49af4-7925-48aa-be0e-e236fd6e8c11",
   "metadata": {},
   "outputs": [],
   "source": [
    "def player_position(board):\n",
    "    position = 0\n",
    "\n",
    "    while position not in range(1,9) or not space(board,position):\n",
    "        position=int(input('Choose (1-9)'))\n",
    "\n",
    "    return position"
   ]
  },
  {
   "cell_type": "code",
   "execution_count": 45,
   "id": "405d49dc-534a-45b9-992c-b32ee1e7766c",
   "metadata": {},
   "outputs": [],
   "source": [
    "#function asking want to play again\n",
    "\n",
    "def replay():\n",
    "    choice = input('Enter Y if want to play or N if not').upper()\n",
    "    if choice == 'Y':\n",
    "        return True\n",
    "    else:\n",
    "       return False"
   ]
  },
  {
   "cell_type": "code",
   "execution_count": 53,
   "id": "a71db99a-1401-4108-91c6-0400608ab259",
   "metadata": {},
   "outputs": [
    {
     "name": "stdout",
     "output_type": "stream",
     "text": [
      "   |   |\n",
      " O |   |  \n",
      "   |   |\n",
      "-----------\n",
      "   |   |\n",
      " X | O | X\n",
      "   |   |\n",
      "-----------\n",
      "   |   |\n",
      " O | X | O\n",
      "   |   |\n",
      "player 2 won\n"
     ]
    },
    {
     "name": "stdin",
     "output_type": "stream",
     "text": [
      "Enter Y if want to play or N if not n\n"
     ]
    }
   ],
   "source": [
    "print('Welcome to Tic Tac Toe!')\n",
    "\n",
    "while True:\n",
    "    # Reset the board\n",
    "    realboard = [' '] * 10\n",
    "    player1_marker, player2_marker = player_marker()\n",
    "    turn = go_first()\n",
    "    print(turn + ' will go first')\n",
    "    \n",
    "    start_game = input('Are you ready to play? Enter Yes or No.')\n",
    "    \n",
    "    if start_game == 'y':\n",
    "        game = True\n",
    "    else:\n",
    "        game = False\n",
    "\n",
    "    while game:\n",
    "        if turn == 'Player 1':\n",
    "            # Player1's turn.\n",
    "            \n",
    "            display_board(realboard)\n",
    "            position = player_position(realboard)\n",
    "            assign_marker(realboard, player1_marker, position)\n",
    "\n",
    "            if check_win(realboard, player1_marker):\n",
    "                display_board(realboard)\n",
    "                print('Player 1 won')\n",
    "                game = False\n",
    "            else:\n",
    "                if fullboard_check(realboard):\n",
    "                    display_board(realboard)\n",
    "                    print('The game is a draw!')\n",
    "                    break\n",
    "                else:\n",
    "                    turn = 'Player 2'\n",
    "\n",
    "        else:\n",
    "            # Player2's turn.\n",
    "            \n",
    "            display_board(realboard)\n",
    "            position = player_position(realboard)\n",
    "            assign_marker(realboard, player2_marker, position)\n",
    "\n",
    "            if check_win(realboard, player2_marker):\n",
    "                display_board(realboard)\n",
    "                print('player 2 won')\n",
    "                game = False\n",
    "            else:\n",
    "                if fullboard_check(realboard):\n",
    "                    display_board(realboard)\n",
    "                    print('The game is a draw!')\n",
    "                    break\n",
    "                else:\n",
    "                    turn = 'Player 1'\n",
    "\n",
    "    if not replay():\n",
    "        break"
   ]
  },
  {
   "cell_type": "code",
   "execution_count": null,
   "id": "84adfc68-a091-4d92-a48c-67fdc9f6cae6",
   "metadata": {},
   "outputs": [],
   "source": []
  }
 ],
 "metadata": {
  "kernelspec": {
   "display_name": "Python 3 (ipykernel)",
   "language": "python",
   "name": "python3"
  },
  "language_info": {
   "codemirror_mode": {
    "name": "ipython",
    "version": 3
   },
   "file_extension": ".py",
   "mimetype": "text/x-python",
   "name": "python",
   "nbconvert_exporter": "python",
   "pygments_lexer": "ipython3",
   "version": "3.12.4"
  }
 },
 "nbformat": 4,
 "nbformat_minor": 5
}
